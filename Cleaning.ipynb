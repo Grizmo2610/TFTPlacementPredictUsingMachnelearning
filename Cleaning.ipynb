{
 "cells": [
  {
   "cell_type": "markdown",
   "metadata": {},
   "source": [
    "# Import các thư viện cần thiết"
   ]
  },
  {
   "cell_type": "code",
   "execution_count": 64,
   "metadata": {
    "ExecuteTime": {
     "end_time": "2024-05-16T06:57:20.592080Z",
     "start_time": "2024-05-16T06:57:20.589078Z"
    }
   },
   "outputs": [],
   "source": [
    "import pandas as pd\n",
    "import re\n",
    "import json "
   ]
  },
  {
   "cell_type": "markdown",
   "metadata": {},
   "source": [
    "# **Reading Data from file**"
   ]
  },
  {
   "cell_type": "code",
   "execution_count": 65,
   "metadata": {
    "ExecuteTime": {
     "end_time": "2024-05-16T06:57:20.897252Z",
     "start_time": "2024-05-16T06:57:20.741584Z"
    }
   },
   "outputs": [],
   "source": [
    "# Read the CSV file into a DataFrame\n",
    "match_df = pd.read_csv('./data/data02.csv')"
   ]
  },
  {
   "cell_type": "code",
   "execution_count": 66,
   "metadata": {
    "ExecuteTime": {
     "end_time": "2024-05-16T06:57:20.909363Z",
     "start_time": "2024-05-16T06:57:20.899254Z"
    }
   },
   "outputs": [],
   "source": [
    "# Xóa bỏ cột định danh\n",
    "match_df = match_df.drop(columns=['puuid'])"
   ]
  },
  {
   "cell_type": "code",
   "execution_count": 67,
   "metadata": {
    "ExecuteTime": {
     "end_time": "2024-05-16T06:57:20.960582Z",
     "start_time": "2024-05-16T06:57:20.910362Z"
    }
   },
   "outputs": [],
   "source": [
    "# Function to reformat names\n",
    "def format_augment_name(augment):\n",
    "    # Split the string by '_'\n",
    "    parts = augment.split('_')\n",
    "    # Get the last element\n",
    "    formatted_name = parts[-1]\n",
    "    # Use regular expression to split each word\n",
    "    formatted_name = ' '.join(re.findall('[A-Z][^A-Z]*', formatted_name))\n",
    "    return formatted_name\n",
    "\n",
    "# Reformat data in columns augments_1, augments_2, augments_3\n",
    "for col in ['augments_1', 'augments_2', 'augments_3']:\n",
    "    match_df[col] = match_df[col].apply(format_augment_name)"
   ]
  },
  {
   "cell_type": "code",
   "execution_count": 68,
   "metadata": {
    "ExecuteTime": {
     "end_time": "2024-05-16T06:57:21.020425Z",
     "start_time": "2024-05-16T06:57:20.962580Z"
    }
   },
   "outputs": [],
   "source": [
    "# Process 16 columns of trait names\n",
    "def format_trait_name(trait):\n",
    "    # Split the string by '_'\n",
    "    parts = trait.split('_')\n",
    "    # Get the last element\n",
    "    formatted_name = parts[-1]\n",
    "    return formatted_name\n",
    "\n",
    "# Reformat data in 16 columns traits\n",
    "for i in range(1, 17):\n",
    "    col = f'traits_{i}_name'\n",
    "    match_df[col] = match_df[col].apply(format_trait_name)"
   ]
  },
  {
   "cell_type": "code",
   "execution_count": 69,
   "metadata": {
    "ExecuteTime": {
     "end_time": "2024-05-16T06:57:21.063407Z",
     "start_time": "2024-05-16T06:57:21.021745Z"
    }
   },
   "outputs": [],
   "source": [
    "# Process column of character names\n",
    "def format_character_name(units):\n",
    "    # Split the string by '_'\n",
    "    parts = units.split('_')\n",
    "    # Get the last element\n",
    "    formatted_name = parts[-1]\n",
    "    return formatted_name\n",
    "\n",
    "# Reformat data in 16 columns of character names\n",
    "for i in range(1, 11):\n",
    "    col = f'units_{i}_character_id'\n",
    "    match_df[col] = match_df[col].apply(format_character_name)\n",
    "\n",
    "# Rename columns\n",
    "for i in range(1, 11):\n",
    "    old_col_name = f'units_{i}_character_id'\n",
    "    new_col_name = f'units_{i}_name'\n",
    "    match_df.rename(columns={old_col_name: new_col_name}, inplace=True)"
   ]
  },
  {
   "cell_type": "markdown",
   "source": [
    "### Define function"
   ],
   "metadata": {
    "collapsed": false
   }
  },
  {
   "cell_type": "code",
   "execution_count": 70,
   "metadata": {
    "ExecuteTime": {
     "end_time": "2024-05-16T06:57:21.486752Z",
     "start_time": "2024-05-16T06:57:21.064418Z"
    }
   },
   "outputs": [],
   "source": [
    "# Function to reformat item names\n",
    "def format_item_name(x: str):\n",
    "    # Split the string by '_'\n",
    "    parts = x.split('_')\n",
    "    # Get the last element\n",
    "    formatted_name = parts[-1]\n",
    "    # Use regular expression to split each word\n",
    "    formatted_name = ' '.join(re.findall('[A-Z][^A-Z]*', formatted_name))\n",
    "    return formatted_name\n",
    "\n",
    "# Reformat data in columns units_{1-10}_item_{1-3}\n",
    "for unit in range(1, 11):\n",
    "    for item in range(1, 4):\n",
    "        col_name = f'units_{unit}_item_{item}'\n",
    "        match_df[col_name] = match_df[col_name].apply(format_item_name)\n"
   ]
  },
  {
   "cell_type": "markdown",
   "metadata": {
    "collapsed": false
   },
   "source": [
    "# Split the dataset for easier handling"
   ]
  },
  {
   "cell_type": "code",
   "execution_count": 71,
   "metadata": {
    "ExecuteTime": {
     "end_time": "2024-05-16T06:57:21.517536Z",
     "start_time": "2024-05-16T06:57:21.489747Z"
    }
   },
   "outputs": [],
   "source": [
    "# Augments\n",
    "augments = match_df[['augments_1', 'augments_2', 'augments_3', 'placement']]\n",
    "\n",
    "# Traits\n",
    "traits_df = match_df[[f'traits_{i}_name' for i in range(1, 17)] +\n",
    "                     [f'traits_{i}_num_units' for i in range(1, 17)] +\n",
    "                     [f'traits_{i}_style' for i in range(1, 17)] +\n",
    "                     [f'traits_{i}_tier_current' for i in range(1, 17)] +\n",
    "                     [f'traits_{i}_tier_total' for i in range(1, 17)]]\n",
    "\n",
    "# Units\n",
    "units_df = match_df[[f'units_{i}_name' for i in range(1, 11)] +\n",
    "                    [f'units_{i}_item_{j}' for i in range(1, 11) for j in range(1, 4)]]\n"
   ]
  },
  {
   "cell_type": "markdown",
   "metadata": {
    "collapsed": false
   },
   "source": [
    "# **Convert data from string to numeric format**"
   ]
  },
  {
   "cell_type": "markdown",
   "metadata": {
    "collapsed": false
   },
   "source": [
    "## Process augmentation data"
   ]
  },
  {
   "cell_type": "code",
   "execution_count": 72,
   "metadata": {
    "collapsed": false,
    "ExecuteTime": {
     "end_time": "2024-05-16T06:57:21.521460Z",
     "start_time": "2024-05-16T06:57:21.517536Z"
    }
   },
   "outputs": [],
   "source": [
    "# # Read data in standard core name format\n",
    "# id_name = pd.read_csv('data/Id_augment.csv')\n",
    "# name_type = pd.read_csv('data/Type.csv')"
   ]
  },
  {
   "cell_type": "code",
   "execution_count": 73,
   "metadata": {
    "collapsed": false,
    "ExecuteTime": {
     "end_time": "2024-05-16T06:57:21.527583Z",
     "start_time": "2024-05-16T06:57:21.522463Z"
    }
   },
   "outputs": [],
   "source": [
    "id_name_type = pd.read_csv('data/Id_name_type.csv')"
   ]
  },
  {
   "cell_type": "markdown",
   "metadata": {
    "collapsed": false
   },
   "source": [
    "### Convert to dict"
   ]
  },
  {
   "cell_type": "code",
   "outputs": [],
   "source": [
    "id_name = id_name_type.loc[: , ['id', 'name']]\n",
    "name_type = id_name_type.loc[: , ['name', 'Type']]"
   ],
   "metadata": {
    "collapsed": false,
    "ExecuteTime": {
     "end_time": "2024-05-16T06:57:21.535116Z",
     "start_time": "2024-05-16T06:57:21.530742Z"
    }
   },
   "execution_count": 74
  },
  {
   "cell_type": "code",
   "execution_count": 75,
   "metadata": {
    "collapsed": false,
    "ExecuteTime": {
     "end_time": "2024-05-16T06:57:21.541280Z",
     "start_time": "2024-05-16T06:57:21.536135Z"
    }
   },
   "outputs": [],
   "source": [
    "mapping_name = id_name.to_dict(index=['id'], orient='records')\n",
    "mapping_name = {row['id']: row['name'] for row in mapping_name}\n",
    "\n",
    "mapping_type = name_type.to_dict(index=['name'], orient='records')\n",
    "mapping_type = {row['name'].strip(): row['Type'] for row in mapping_type}"
   ]
  },
  {
   "cell_type": "code",
   "execution_count": 76,
   "metadata": {
    "collapsed": false,
    "ExecuteTime": {
     "end_time": "2024-05-16T06:57:21.549565Z",
     "start_time": "2024-05-16T06:57:21.542285Z"
    }
   },
   "outputs": [],
   "source": [
    "# Read available JSON data to retrieve information for converting from core ID to name\n",
    "with open('data/Name.json', 'r') as f:\n",
    "    temp = json.load(f)\n",
    "\n",
    "names = {}\n",
    "for i in temp['data']:\n",
    "    names[i] = temp['data'][i]['name']"
   ]
  },
  {
   "cell_type": "markdown",
   "source": [
    "### Define function"
   ],
   "metadata": {
    "collapsed": false
   }
  },
  {
   "cell_type": "code",
   "execution_count": 77,
   "metadata": {
    "collapsed": false,
    "ExecuteTime": {
     "end_time": "2024-05-16T06:57:21.555130Z",
     "start_time": "2024-05-16T06:57:21.550569Z"
    }
   },
   "outputs": [],
   "source": [
    "def replace_suffix(x:str):\n",
    "    \"\"\"\n",
    "    Function to replace suffixes in a string.\n",
    "\n",
    "    Parameters:\n",
    "    - x (str): The input string.\n",
    "\n",
    "    Returns:\n",
    "    - str: The string with suffixes replaced.\n",
    "    \"\"\"\n",
    "    x = x.replace('III','').replace('II','').replace('++','').replace('+','').strip()\n",
    "    if x.endswith('I'):\n",
    "        return x[:-1].strip()\n",
    "    return x\n",
    "\n",
    "def update_value(val):\n",
    "    \"\"\"\n",
    "    Function to update a value based on predefined mappings.\n",
    "\n",
    "    Parameters:\n",
    "    - val: The input value to be updated.\n",
    "\n",
    "    Returns:\n",
    "    - Updated value according to predefined mappings.\n",
    "    \"\"\"\n",
    "    if val in names:\n",
    "        return names[val]\n",
    "    elif val in mapping_name:\n",
    "        return mapping_name[val]\n",
    "    else:\n",
    "        return val\n"
   ]
  },
  {
   "cell_type": "code",
   "execution_count": 78,
   "metadata": {
    "collapsed": false,
    "ExecuteTime": {
     "end_time": "2024-05-16T06:57:21.585640Z",
     "start_time": "2024-05-16T06:57:21.556170Z"
    }
   },
   "outputs": [],
   "source": [
    "augments = augments.map(update_value)\n",
    "augments = augments.map(lambda x: str(x).replace('++','').replace('+','').strip())"
   ]
  },
  {
   "cell_type": "code",
   "execution_count": 79,
   "metadata": {
    "collapsed": false,
    "ExecuteTime": {
     "end_time": "2024-05-16T06:57:21.600244Z",
     "start_time": "2024-05-16T06:57:21.586646Z"
    }
   },
   "outputs": [],
   "source": [
    "all_augments = mapping_type.keys()\n",
    "all_augments = list(set(map(replace_suffix, all_augments)))\n",
    "all_augments.sort()\n",
    "\n",
    "# Create a new dataframe with columns for all augments\n",
    "augments_df = pd.DataFrame(0, index=augments.index, columns=all_augments)\n",
    "\n",
    "# Special augment\n",
    "augments.replace('Healing Orbs I I', 'Healing Orbs II', inplace=True)"
   ]
  },
  {
   "cell_type": "code",
   "execution_count": 80,
   "metadata": {
    "collapsed": false,
    "ExecuteTime": {
     "end_time": "2024-05-16T06:57:23.219158Z",
     "start_time": "2024-05-16T06:57:21.601268Z"
    }
   },
   "outputs": [],
   "source": [
    "# Assign values to the new dataframe\n",
    "for i in range(len(augments)):\n",
    "    for j in range(3):\n",
    "        ag = augments[f'augments_{j + 1}'][i]\n",
    "        if ag.endswith('I'):\n",
    "            count = ag.count('I')\n",
    "            ag = replace_suffix(ag)\n",
    "            augments_df.loc[i, ag] += count\n",
    "        elif ag in mapping_type:\n",
    "            augments_df.loc[i, ag] += mapping_type[ag]"
   ]
  },
  {
   "cell_type": "markdown",
   "metadata": {
    "collapsed": false
   },
   "source": [
    "## Process traits data"
   ]
  },
  {
   "cell_type": "code",
   "execution_count": 81,
   "metadata": {
    "collapsed": false,
    "ExecuteTime": {
     "end_time": "2024-05-16T06:57:29.953098Z",
     "start_time": "2024-05-16T06:57:23.220164Z"
    }
   },
   "outputs": [],
   "source": [
    "# Process for traits_{i}_name for i from 1 to 16\n",
    "trait_name_columns = [f'traits_{i}_name' for i in range(1, 17)]\n",
    "traits_df = traits_df[trait_name_columns]\n",
    "\n",
    "# Get all unique traits names\n",
    "unique_traits_names = pd.unique(traits_df.values.ravel('K'))\n",
    "\n",
    "# Create a new dataframe with columns for each unique trait name\n",
    "traits_encoding_df = pd.DataFrame(0, index=traits_df.index, columns=unique_traits_names)\n",
    "\n",
    "# Populate the new dataframe by setting 1 if the trait name appears in any of the trait name columns for a row in traits_df\n",
    "\n",
    "check = True\n",
    "for idx, row in traits_df.iterrows():\n",
    "    for col in trait_name_columns:\n",
    "        tier = col.replace('name', '') + 'tier_current'\n",
    "        if pd.notna(row[col]):\n",
    "            traits_encoding_df.at[idx, row[col]] = match_df[tier][idx]"
   ]
  },
  {
   "cell_type": "markdown",
   "metadata": {
    "collapsed": false
   },
   "source": [
    "## Process units data"
   ]
  },
  {
   "cell_type": "code",
   "execution_count": 82,
   "metadata": {
    "collapsed": false,
    "ExecuteTime": {
     "end_time": "2024-05-16T06:57:32.940392Z",
     "start_time": "2024-05-16T06:57:29.954583Z"
    }
   },
   "outputs": [],
   "source": [
    "# Process for units_k_name where k ranges from 1 to 10\n",
    "unit_name_columns = [f'units_{i}_name' for i in range(1, 11)]\n",
    "unique_unit_names = pd.unique(units_df[unit_name_columns].values.ravel('K'))\n",
    "\n",
    "# Create a new dataframe with columns for each unique unit name\n",
    "units_encoding_df = pd.DataFrame(0, index=units_df.index, columns=unique_unit_names)\n",
    "\n",
    "# Populate the new dataframe by setting its tier if the unit name appears in any of the unit name columns for a row in units_df\n",
    "for idx, row in units_df.iterrows():\n",
    "    for col in unit_name_columns:\n",
    "        tier = col.replace('name', '') + 'tier'\n",
    "        if pd.notna(row[col]):\n",
    "            units_encoding_df.at[idx, row[col]] = match_df[tier][idx]"
   ]
  },
  {
   "cell_type": "markdown",
   "metadata": {
    "collapsed": false
   },
   "source": [
    "## Process Items data"
   ]
  },
  {
   "cell_type": "code",
   "execution_count": 83,
   "metadata": {
    "collapsed": false,
    "ExecuteTime": {
     "end_time": "2024-05-16T06:57:37.802931Z",
     "start_time": "2024-05-16T06:57:32.941471Z"
    }
   },
   "outputs": [],
   "source": [
    "# Define the correct columns for unit items based on the provided pattern\n",
    "unit_item_columns = [f'units_{i}_item_{j}' for i in range(1, 11) for j in range(1, 4)]\n",
    "\n",
    "# Filter out columns that don't exist in the dataframe\n",
    "unit_item_columns = [col for col in unit_item_columns if col in units_df.columns]\n",
    "\n",
    "# Extract all unique items from these columns\n",
    "unique_unit_items = pd.unique(units_df[unit_item_columns].values.ravel('K'))\n",
    "unique_unit_items = [item for item in unique_unit_items if not pd.isnull(item)]\n",
    "\n",
    "# Create a new dataframe with columns for each unique unit item\n",
    "units_items_df = pd.DataFrame(0, index=units_df.index, columns=unique_unit_items)\n",
    "\n",
    "# Populate the new dataframe\n",
    "for idx, row in units_df.iterrows():\n",
    "    for col in unit_item_columns:\n",
    "        if pd.notna(row[col]):\n",
    "            units_items_df.at[idx, row[col]] = 1"
   ]
  },
  {
   "cell_type": "markdown",
   "source": [
    "# **Merge data**"
   ],
   "metadata": {
    "collapsed": false
   }
  },
  {
   "cell_type": "code",
   "execution_count": 84,
   "metadata": {
    "collapsed": false,
    "ExecuteTime": {
     "end_time": "2024-05-16T06:57:37.813784Z",
     "start_time": "2024-05-16T06:57:37.803930Z"
    }
   },
   "outputs": [],
   "source": [
    "# Remaining data (Which already is numeric)\n",
    "remaining = match_df[match_df.columns.difference(augments.columns).difference(traits_df.columns).difference(units_df.columns)]\n",
    "\n",
    "# Copy Remaining data to other dataframe \n",
    "df = remaining.copy()\n",
    "\n",
    "# Drop do not need fields (Have already using to assign value in other field \n",
    "drop_columns = [x for x in list(remaining.columns) if (x.find('tier') != -1 or x.find('style') != -1 or x.find('_num_units') != -1)]\n",
    "\n",
    "# Dropping field\n",
    "df.drop(columns=drop_columns, inplace=True)"
   ]
  },
  {
   "cell_type": "code",
   "execution_count": 85,
   "metadata": {
    "collapsed": false,
    "ExecuteTime": {
     "end_time": "2024-05-16T06:57:37.837937Z",
     "start_time": "2024-05-16T06:57:37.814822Z"
    }
   },
   "outputs": [],
   "source": [
    "# Concat all parts of data into a single dataframe\n",
    "final_data = pd.concat([df, augments_df, traits_encoding_df, units_encoding_df, units_items_df,match_df['placement']], axis=1)"
   ]
  },
  {
   "cell_type": "code",
   "execution_count": 86,
   "metadata": {
    "collapsed": false,
    "ExecuteTime": {
     "end_time": "2024-05-16T06:57:37.857848Z",
     "start_time": "2024-05-16T06:57:37.838940Z"
    }
   },
   "outputs": [
    {
     "data": {
      "text/plain": "      level  A Cut Above  Accomplice  Altruist Crest  Altruist Crown  \\\n0         8            0           0               0               0   \n1         9            0           0               0               0   \n2         8            0           0               0               0   \n3         7            0           3               0               0   \n4        10            0           0               0               0   \n...     ...          ...         ...             ...             ...   \n9587      9            0           0               0               0   \n9588     10            0           0               0               0   \n9589      8            0           0               0               0   \n9590      9            0           0               0               0   \n9591      8            0           0               0               0   \n\n      Arcanist  Arcanist Crest  Arcanist Crown  Ascension  AtWhatCost  ...  \\\n0            0               0               0          0           0  ...   \n1            0               0               0          0           0  ...   \n2            0               0               0          0           0  ...   \n3            0               0               0          0           0  ...   \n4            0               0               0          0           0  ...   \n...        ...             ...             ...        ...         ...  ...   \n9587         0               0               0          0           0  ...   \n9588         0               0               0          0           0  ...   \n9589         0               0               0          0           0  ...   \n9590         0               0               0          0           0  ...   \n9591         0               0               0          0           0  ...   \n\n      Bramble Vest Radiant  Steraks Gage Radiant  Spectral Gauntlet Radiant  \\\n0                        0                     0                          0   \n1                        0                     0                          0   \n2                        0                     0                          0   \n3                        0                     0                          0   \n4                        0                     0                          0   \n...                    ...                   ...                        ...   \n9587                     0                     0                          0   \n9588                     0                     0                          0   \n9589                     0                     0                          0   \n9590                     0                     0                          0   \n9591                     0                     0                          0   \n\n      Jeweled Gauntlet Radiant  Quicksilver Radiant  Guardian Angel Radiant  \\\n0                            0                    0                       0   \n1                            0                    0                       0   \n2                            0                    0                       0   \n3                            0                    0                       0   \n4                            0                    0                       0   \n...                        ...                  ...                     ...   \n9587                         0                    0                       0   \n9588                         0                    0                       0   \n9589                         0                    0                       0   \n9590                         0                    0                       0   \n9591                         0                    0                       0   \n\n      A P  Support  A S  placement  \n0       0        1    1          7  \n1       0        0    0          4  \n2       0        0    0          6  \n3       0        0    0          8  \n4       0        0    0          1  \n...   ...      ...  ...        ...  \n9587    0        0    0          5  \n9588    0        0    0          1  \n9589    0        0    0          3  \n9590    0        0    0          2  \n9591    0        0    0          7  \n\n[9592 rows x 438 columns]",
      "text/html": "<div>\n<style scoped>\n    .dataframe tbody tr th:only-of-type {\n        vertical-align: middle;\n    }\n\n    .dataframe tbody tr th {\n        vertical-align: top;\n    }\n\n    .dataframe thead th {\n        text-align: right;\n    }\n</style>\n<table border=\"1\" class=\"dataframe\">\n  <thead>\n    <tr style=\"text-align: right;\">\n      <th></th>\n      <th>level</th>\n      <th>A Cut Above</th>\n      <th>Accomplice</th>\n      <th>Altruist Crest</th>\n      <th>Altruist Crown</th>\n      <th>Arcanist</th>\n      <th>Arcanist Crest</th>\n      <th>Arcanist Crown</th>\n      <th>Ascension</th>\n      <th>AtWhatCost</th>\n      <th>...</th>\n      <th>Bramble Vest Radiant</th>\n      <th>Steraks Gage Radiant</th>\n      <th>Spectral Gauntlet Radiant</th>\n      <th>Jeweled Gauntlet Radiant</th>\n      <th>Quicksilver Radiant</th>\n      <th>Guardian Angel Radiant</th>\n      <th>A P</th>\n      <th>Support</th>\n      <th>A S</th>\n      <th>placement</th>\n    </tr>\n  </thead>\n  <tbody>\n    <tr>\n      <th>0</th>\n      <td>8</td>\n      <td>0</td>\n      <td>0</td>\n      <td>0</td>\n      <td>0</td>\n      <td>0</td>\n      <td>0</td>\n      <td>0</td>\n      <td>0</td>\n      <td>0</td>\n      <td>...</td>\n      <td>0</td>\n      <td>0</td>\n      <td>0</td>\n      <td>0</td>\n      <td>0</td>\n      <td>0</td>\n      <td>0</td>\n      <td>1</td>\n      <td>1</td>\n      <td>7</td>\n    </tr>\n    <tr>\n      <th>1</th>\n      <td>9</td>\n      <td>0</td>\n      <td>0</td>\n      <td>0</td>\n      <td>0</td>\n      <td>0</td>\n      <td>0</td>\n      <td>0</td>\n      <td>0</td>\n      <td>0</td>\n      <td>...</td>\n      <td>0</td>\n      <td>0</td>\n      <td>0</td>\n      <td>0</td>\n      <td>0</td>\n      <td>0</td>\n      <td>0</td>\n      <td>0</td>\n      <td>0</td>\n      <td>4</td>\n    </tr>\n    <tr>\n      <th>2</th>\n      <td>8</td>\n      <td>0</td>\n      <td>0</td>\n      <td>0</td>\n      <td>0</td>\n      <td>0</td>\n      <td>0</td>\n      <td>0</td>\n      <td>0</td>\n      <td>0</td>\n      <td>...</td>\n      <td>0</td>\n      <td>0</td>\n      <td>0</td>\n      <td>0</td>\n      <td>0</td>\n      <td>0</td>\n      <td>0</td>\n      <td>0</td>\n      <td>0</td>\n      <td>6</td>\n    </tr>\n    <tr>\n      <th>3</th>\n      <td>7</td>\n      <td>0</td>\n      <td>3</td>\n      <td>0</td>\n      <td>0</td>\n      <td>0</td>\n      <td>0</td>\n      <td>0</td>\n      <td>0</td>\n      <td>0</td>\n      <td>...</td>\n      <td>0</td>\n      <td>0</td>\n      <td>0</td>\n      <td>0</td>\n      <td>0</td>\n      <td>0</td>\n      <td>0</td>\n      <td>0</td>\n      <td>0</td>\n      <td>8</td>\n    </tr>\n    <tr>\n      <th>4</th>\n      <td>10</td>\n      <td>0</td>\n      <td>0</td>\n      <td>0</td>\n      <td>0</td>\n      <td>0</td>\n      <td>0</td>\n      <td>0</td>\n      <td>0</td>\n      <td>0</td>\n      <td>...</td>\n      <td>0</td>\n      <td>0</td>\n      <td>0</td>\n      <td>0</td>\n      <td>0</td>\n      <td>0</td>\n      <td>0</td>\n      <td>0</td>\n      <td>0</td>\n      <td>1</td>\n    </tr>\n    <tr>\n      <th>...</th>\n      <td>...</td>\n      <td>...</td>\n      <td>...</td>\n      <td>...</td>\n      <td>...</td>\n      <td>...</td>\n      <td>...</td>\n      <td>...</td>\n      <td>...</td>\n      <td>...</td>\n      <td>...</td>\n      <td>...</td>\n      <td>...</td>\n      <td>...</td>\n      <td>...</td>\n      <td>...</td>\n      <td>...</td>\n      <td>...</td>\n      <td>...</td>\n      <td>...</td>\n      <td>...</td>\n    </tr>\n    <tr>\n      <th>9587</th>\n      <td>9</td>\n      <td>0</td>\n      <td>0</td>\n      <td>0</td>\n      <td>0</td>\n      <td>0</td>\n      <td>0</td>\n      <td>0</td>\n      <td>0</td>\n      <td>0</td>\n      <td>...</td>\n      <td>0</td>\n      <td>0</td>\n      <td>0</td>\n      <td>0</td>\n      <td>0</td>\n      <td>0</td>\n      <td>0</td>\n      <td>0</td>\n      <td>0</td>\n      <td>5</td>\n    </tr>\n    <tr>\n      <th>9588</th>\n      <td>10</td>\n      <td>0</td>\n      <td>0</td>\n      <td>0</td>\n      <td>0</td>\n      <td>0</td>\n      <td>0</td>\n      <td>0</td>\n      <td>0</td>\n      <td>0</td>\n      <td>...</td>\n      <td>0</td>\n      <td>0</td>\n      <td>0</td>\n      <td>0</td>\n      <td>0</td>\n      <td>0</td>\n      <td>0</td>\n      <td>0</td>\n      <td>0</td>\n      <td>1</td>\n    </tr>\n    <tr>\n      <th>9589</th>\n      <td>8</td>\n      <td>0</td>\n      <td>0</td>\n      <td>0</td>\n      <td>0</td>\n      <td>0</td>\n      <td>0</td>\n      <td>0</td>\n      <td>0</td>\n      <td>0</td>\n      <td>...</td>\n      <td>0</td>\n      <td>0</td>\n      <td>0</td>\n      <td>0</td>\n      <td>0</td>\n      <td>0</td>\n      <td>0</td>\n      <td>0</td>\n      <td>0</td>\n      <td>3</td>\n    </tr>\n    <tr>\n      <th>9590</th>\n      <td>9</td>\n      <td>0</td>\n      <td>0</td>\n      <td>0</td>\n      <td>0</td>\n      <td>0</td>\n      <td>0</td>\n      <td>0</td>\n      <td>0</td>\n      <td>0</td>\n      <td>...</td>\n      <td>0</td>\n      <td>0</td>\n      <td>0</td>\n      <td>0</td>\n      <td>0</td>\n      <td>0</td>\n      <td>0</td>\n      <td>0</td>\n      <td>0</td>\n      <td>2</td>\n    </tr>\n    <tr>\n      <th>9591</th>\n      <td>8</td>\n      <td>0</td>\n      <td>0</td>\n      <td>0</td>\n      <td>0</td>\n      <td>0</td>\n      <td>0</td>\n      <td>0</td>\n      <td>0</td>\n      <td>0</td>\n      <td>...</td>\n      <td>0</td>\n      <td>0</td>\n      <td>0</td>\n      <td>0</td>\n      <td>0</td>\n      <td>0</td>\n      <td>0</td>\n      <td>0</td>\n      <td>0</td>\n      <td>7</td>\n    </tr>\n  </tbody>\n</table>\n<p>9592 rows × 438 columns</p>\n</div>"
     },
     "execution_count": 86,
     "metadata": {},
     "output_type": "execute_result"
    }
   ],
   "source": [
    "# Final data\n",
    "final_data"
   ]
  },
  {
   "cell_type": "markdown",
   "source": [
    "# **Data to csv**"
   ],
   "metadata": {
    "collapsed": false
   }
  },
  {
   "cell_type": "code",
   "execution_count": 87,
   "metadata": {
    "collapsed": false,
    "ExecuteTime": {
     "end_time": "2024-05-16T06:57:39.251107Z",
     "start_time": "2024-05-16T06:57:37.858849Z"
    }
   },
   "outputs": [],
   "source": [
    "final_data.to_csv('data/final.csv', index=False, header=True)"
   ]
  }
 ],
 "metadata": {
  "kernelspec": {
   "display_name": "Python 3",
   "language": "python",
   "name": "python3"
  },
  "language_info": {
   "codemirror_mode": {
    "name": "ipython",
    "version": 3
   },
   "file_extension": ".py",
   "mimetype": "text/x-python",
   "name": "python",
   "nbconvert_exporter": "python",
   "pygments_lexer": "ipython3",
   "version": "3.11.4"
  }
 },
 "nbformat": 4,
 "nbformat_minor": 2
}
